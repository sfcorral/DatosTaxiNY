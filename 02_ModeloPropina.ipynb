{
 "cells": [
  {
   "cell_type": "markdown",
   "id": "bab82da6",
   "metadata": {},
   "source": [
    "<h1><center>Modelo de predicción de propinas</center></h1>"
   ]
  },
  {
   "cell_type": "markdown",
   "id": "7a8df462",
   "metadata": {},
   "source": [
    "Una vez analizados los datos pasamos a desarrollar los modelos de predicción."
   ]
  },
  {
   "cell_type": "markdown",
   "id": "8028b0eb",
   "metadata": {},
   "source": [
    "## Lectura Datos Anterior"
   ]
  },
  {
   "cell_type": "code",
   "execution_count": 1,
   "id": "f0799756",
   "metadata": {
    "scrolled": true
   },
   "outputs": [
    {
     "name": "stderr",
     "output_type": "stream",
     "text": [
      "\n",
      "Attaching package: 'dplyr'\n",
      "\n",
      "The following objects are masked from 'package:stats':\n",
      "\n",
      "    filter, lag\n",
      "\n",
      "The following objects are masked from 'package:base':\n",
      "\n",
      "    intersect, setdiff, setequal, union\n",
      "\n",
      "Registered S3 method overwritten by 'openssl':\n",
      "  method      from\n",
      "  print.bytes Rcpp\n"
     ]
    }
   ],
   "source": [
    "#conexión a spark\n",
    "#install.packages(\"sparklyr\")\n",
    "library(sparklyr)\n",
    "library(dplyr)\n",
    "sc <- spark_connect(master = \"local\")\n",
    "spark_web(sc)\n"
   ]
  },
  {
   "cell_type": "code",
   "execution_count": 2,
   "id": "ff89ac00",
   "metadata": {},
   "outputs": [],
   "source": [
    "#Defino el schema de los datos \n",
    "schema_final <- c( VendorID   = \"integer\", tpep_pickup_datetime  = \"timestamp\", tpep_dropoff_datetime=\"timestamp\", passenger_count=\"integer\",\n",
    "                     trip_distance=\"numeric\", RatecodeID=\"factor\",store_and_fwd_flag=\"character\",PULocationID=\"character\",DOLocationID=\"character\",\n",
    "                     payment_type=\"integer\",fare_amount=\"numeric\",extra=\"numeric\", mta_tax=\"numeric\", tip_amount=\"numeric\",tolls_amount=\"integer\",\n",
    "                     improvement_surcharge=\"numeric\",total_amount=\"numeric\") \n",
    "#Cargo los datos\n",
    "DataTaxiTarjetaFiltrado<-spark_read_csv(sc, \"C:/Users/Sara/Desktop/DatosTaxi/\", columns = schema_final, infer_schema=FALSE) %>%\n",
    "            filter(payment_type==1 && tip_amount>=0 && tip_amount<=50) %>%\n",
    "            filter(extra==0 || extra==0.5 || extra==1) %>%\n",
    "            filter(mta_tax==0.5) %>% \n",
    "            filter(Improvement_surcharge==0.3 ) %>% \n",
    "            mutate(WeekDay=dayofweek(tpep_dropoff_datetime)) %>%\n",
    "            mutate(TripDurationMin=(bigint(to_timestamp(tpep_dropoff_datetime)) - bigint(to_timestamp(tpep_pickup_datetime)))/60 ) %>%\n",
    "            filter(TripDurationMin>0 && trip_distance>0 ) %>% \n",
    "            filter(trip_distance<=15.60)%>%\n",
    "            filter(fare_amount<=52)%>%\n",
    "            filter(tip_amount<=10.15)%>%\n",
    "            mutate(TypeTripHour=ifelse(extra==0,'Normal', ifelse(extra==0.5,'Rush Hour', 'OverNight'))) %>%\n",
    "            mutate(ZoneChange=ifelse(PULocationID ==DOLocationID ,'N', 'Y')) %>%\n",
    "            mutate(AvgSpeed=trip_distance/(TripDurationMin/60)) %>%\n",
    "            select(passenger_count,trip_distance,RatecodeID,fare_amount, tip_amount,tolls_amount,WeekDay,AvgSpeed,TripDurationMin,TypeTripHour, ZoneChange)\n",
    "\n",
    "       "
   ]
  },
  {
   "cell_type": "code",
   "execution_count": 3,
   "id": "e2a9c48d",
   "metadata": {},
   "outputs": [
    {
     "data": {
      "text/plain": [
       "# Source: spark<?> [?? x 1]\n",
       "         n\n",
       "     <dbl>\n",
       "1 18606021"
      ]
     },
     "metadata": {},
     "output_type": "display_data"
    }
   ],
   "source": [
    "count(DataTaxiTarjetaFiltrado)"
   ]
  },
  {
   "cell_type": "markdown",
   "id": "d8abe624",
   "metadata": {},
   "source": [
    "## Partición de datos"
   ]
  },
  {
   "cell_type": "markdown",
   "id": "8a786d44",
   "metadata": {},
   "source": [
    "Para la generación de los modelos vamos a pasar a particionar la muestra de los datos. Tomaremos un 80% de los datos para el entrenamiento de los modelos y un 20% de los datos los reservaremos para el test."
   ]
  },
  {
   "cell_type": "code",
   "execution_count": 4,
   "id": "0e68ddce",
   "metadata": {},
   "outputs": [
    {
     "data": {
      "text/plain": [
       "# Source: spark<?> [?? x 1]\n",
       "         n\n",
       "     <dbl>\n",
       "1 18606021"
      ]
     },
     "metadata": {},
     "output_type": "display_data"
    },
    {
     "data": {
      "text/plain": [
       "# Source: spark<?> [?? x 1]\n",
       "        n\n",
       "    <dbl>\n",
       "1 3720586"
      ]
     },
     "metadata": {},
     "output_type": "display_data"
    },
    {
     "data": {
      "text/plain": [
       "# Source: spark<?> [?? x 1]\n",
       "         n\n",
       "     <dbl>\n",
       "1 14885435"
      ]
     },
     "metadata": {},
     "output_type": "display_data"
    }
   ],
   "source": [
    "#Genero una partición de los datps 80% entrenamiento, 20% test \n",
    "particion_datos <- sdf_partition(DataTaxiTarjetaFiltrado,training = 0.8, test = 0.2, seed = 1234)\n",
    "\n",
    "# Contamos las particiones:\n",
    "count(DataTaxiTarjetaFiltrado)\n",
    "count(particion_datos$test)\n",
    "count(particion_datos$training)\n",
    "\n",
    "\n"
   ]
  },
  {
   "cell_type": "markdown",
   "id": "8e71b830",
   "metadata": {},
   "source": [
    "## Fórmula"
   ]
  },
  {
   "cell_type": "markdown",
   "id": "844ba3ad",
   "metadata": {},
   "source": [
    "La fórmula para los modelos la definimos de la siguiente manera. "
   ]
  },
  {
   "cell_type": "code",
   "execution_count": 5,
   "id": "a3cc7198",
   "metadata": {},
   "outputs": [],
   "source": [
    "formula<-tip_amount~passenger_count+fare_amount+WeekDay+AvgSpeed+TripDurationMin+TypeTripHour+ZoneChange"
   ]
  },
  {
   "cell_type": "markdown",
   "id": "b76db14d",
   "metadata": {},
   "source": [
    "# Modelización"
   ]
  },
  {
   "cell_type": "markdown",
   "id": "c6c98fd0",
   "metadata": {},
   "source": [
    "Para este caso vamos a entrenar 3 modelos diferentes para más tarde elegir el que mejor poder predictivo presente y a la vez sea más eficiente para utilizar en la app. \n",
    "Los modelos que se van a entrenar son una regresión lineal, random forest y gradient boosting machine. Aunque lo ideal sería realizar para cada uno de ellos varias configuraciones para dar con la que tenga mayor poder predictivo, las limitaciones del sistema hacen que únicamente vaya a poder lanzar una única configuración de parámetros para cada modelo. \n",
    "En el caso de disponer de máquinas más eficientes, mediante la libreria caret es posible lanzar distintas configuraciones para los modelos y testear cual es la más óptima. "
   ]
  },
  {
   "cell_type": "markdown",
   "id": "8fc405f2",
   "metadata": {},
   "source": [
    "## Regresión lineal"
   ]
  },
  {
   "cell_type": "code",
   "execution_count": 6,
   "id": "acef1ce3",
   "metadata": {},
   "outputs": [],
   "source": [
    "modelo_lm<-particion_datos$training %>%\n",
    "                ml_linear_regression(formula)\n"
   ]
  },
  {
   "cell_type": "code",
   "execution_count": 8,
   "id": "cc16d38c",
   "metadata": {
    "scrolled": false
   },
   "outputs": [
    {
     "name": "stdout",
     "output_type": "stream",
     "text": [
      "Deviance Residuals (approximate):\n",
      "    Min      1Q  Median      3Q     Max \n",
      "-8.8501 -0.2669  0.1040  0.3847  9.1094 \n",
      "\n",
      "Coefficients:\n",
      "           (Intercept)        passenger_count            fare_amount \n",
      "          5.416805e-01          -1.834180e-03           1.631235e-01 \n",
      "               WeekDay               AvgSpeed        TripDurationMin \n",
      "         -1.642960e-03           5.883605e-05          -4.543527e-04 \n",
      "   TypeTripHour_Normal TypeTripHour_Rush Hour           ZoneChange_Y \n",
      "         -1.704779e-01          -9.693720e-02           9.766404e-03 \n",
      "\n",
      "R-Squared: 0.5527\n",
      "Root Mean Squared Error: 0.9658\n"
     ]
    }
   ],
   "source": [
    "summary(modelo_lm)\n"
   ]
  },
  {
   "cell_type": "code",
   "execution_count": 11,
   "id": "1395b4b2",
   "metadata": {},
   "outputs": [
    {
     "data": {
      "text/html": [
       "'C:/Users/Sara'"
      ],
      "text/latex": [
       "'C:/Users/Sara'"
      ],
      "text/markdown": [
       "'C:/Users/Sara'"
      ],
      "text/plain": [
       "[1] \"C:/Users/Sara\""
      ]
     },
     "metadata": {},
     "output_type": "display_data"
    },
    {
     "name": "stderr",
     "output_type": "stream",
     "text": [
      "Model successfully saved.\n"
     ]
    }
   ],
   "source": [
    "ml_save(modelo_lm, \"ModeloLineal.R\")"
   ]
  },
  {
   "cell_type": "code",
   "execution_count": 43,
   "id": "d7dfc55c",
   "metadata": {},
   "outputs": [],
   "source": [
    "# prediccion\n",
    "training_ml<-ml_predict(modelo_lm, particion_datos$training)\n",
    "mse_train_ml<-ml_regression_evaluator( training_ml,\n",
    "   label_col=\"tip_amount\",\n",
    "   prediction_col = \"prediction\",\n",
    "  metric_name = c(\"mse\"),\n",
    "  uid = random_string(\"regression_evaluator_\"))\n",
    "rmse_train_ml<-ml_regression_evaluator( training_ml,\n",
    "   label_col=\"tip_amount\",\n",
    "   prediction_col = \"prediction\",\n",
    "  metric_name = c(\"rmse\"),\n",
    "  uid = random_string(\"regression_evaluator_\"))\n",
    "r2_train_ml<-ml_regression_evaluator( training_ml,\n",
    "   label_col=\"tip_amount\",\n",
    "   prediction_col = \"prediction\",\n",
    "  metric_name = c(\"r2\"),\n",
    "  uid = random_string(\"regression_evaluator_\"))\n",
    "mae_train_ml<-ml_regression_evaluator( training_ml,\n",
    "   label_col=\"tip_amount\",\n",
    "   prediction_col = \"prediction\",\n",
    "  metric_name = c(\"mae\"),\n",
    "  uid = random_string(\"regression_evaluator_\"))\n",
    "train_lm<-c(mse_train_ml,rmse_train_ml,r2_train_ml,mae_train_ml)\n"
   ]
  },
  {
   "cell_type": "code",
   "execution_count": 46,
   "id": "8eb7b660",
   "metadata": {},
   "outputs": [],
   "source": [
    "# prediccion\n",
    "test_ml<-ml_predict(modelo_lm, particion_datos$test) \n",
    "\n",
    "mse_test_ml<-ml_regression_evaluator( test_ml,\n",
    "   label_col=\"tip_amount\",\n",
    "   prediction_col = \"prediction\",\n",
    "  metric_name = c(\"mse\"),\n",
    "  uid = random_string(\"regression_evaluator_\"))\n",
    "rmse_test_ml<-ml_regression_evaluator( test_ml,\n",
    "   label_col=\"tip_amount\",\n",
    "   prediction_col = \"prediction\",\n",
    "  metric_name = c(\"rmse\"),\n",
    "  uid = random_string(\"regression_evaluator_\"))\n",
    "r2_test_ml<-ml_regression_evaluator( test_ml,\n",
    "   label_col=\"tip_amount\",\n",
    "   prediction_col = \"prediction\",\n",
    "  metric_name = c(\"r2\"),\n",
    "  uid = random_string(\"regression_evaluator_\"))\n",
    "mae_test_ml<-ml_regression_evaluator( test_ml,\n",
    "   label_col=\"tip_amount\",\n",
    "   prediction_col = \"prediction\",\n",
    "  metric_name = c(\"mae\"),\n",
    "  uid = random_string(\"regression_evaluator_\"))\n",
    "\n",
    "test_lm<-c(mse_test_ml,rmse_test_ml,r2_test_ml,mae_test_ml)"
   ]
  },
  {
   "cell_type": "markdown",
   "id": "138c2a3b",
   "metadata": {},
   "source": [
    "## Random Forest"
   ]
  },
  {
   "cell_type": "code",
   "execution_count": null,
   "id": "5e438cd8",
   "metadata": {},
   "outputs": [],
   "source": [
    "modelo_rf <- particion_datos$training %>%\n",
    "              ml_random_forest(formula,\n",
    "              type =\"regression\",\n",
    "              prediction_col = \"prediction\",\n",
    "  probability_col = \"probability\",\n",
    "  raw_prediction_col = \"rawPrediction\",\n",
    "  feature_subset_strategy = \"auto\",\n",
    "  impurity = \"auto\",\n",
    "  checkpoint_interval = 10,\n",
    "  max_bins = 5,\n",
    "  max_depth = 10,\n",
    "  num_trees = 20,\n",
    "  min_info_gain = 0,\n",
    "  min_instances_per_node = 1,\n",
    "  subsampling_rate = 1,\n",
    "  seed = 1234,\n",
    "  thresholds = NULL,\n",
    "  cache_node_ids = FALSE,\n",
    "  max_memory_in_mb = 256,\n",
    "  uid = random_string(\"random_forest_\")\n",
    ")"
   ]
  },
  {
   "cell_type": "code",
   "execution_count": null,
   "id": "4f745fce",
   "metadata": {},
   "outputs": [],
   "source": [
    "summary(modelo_rf)\n",
    "ml_save(modelo_rf, \"ModeloRF\")"
   ]
  },
  {
   "cell_type": "code",
   "execution_count": 29,
   "id": "d70607f5",
   "metadata": {},
   "outputs": [],
   "source": [
    "modelo_rf<-ml_load(sc,\"ModeloRF\")"
   ]
  },
  {
   "cell_type": "code",
   "execution_count": 44,
   "id": "d5e22305",
   "metadata": {},
   "outputs": [],
   "source": [
    "training_rf<-ml_predict(modelo_rf, particion_datos$training)\n",
    "mse_train_rf<-ml_regression_evaluator( training_rf,\n",
    "   label_col=\"tip_amount\",\n",
    "   prediction_col = \"prediction\",\n",
    "  metric_name = c(\"mse\"),\n",
    "  uid = random_string(\"regression_evaluator_\"))\n",
    "rmse_train_rf<-ml_regression_evaluator( training_rf,\n",
    "   label_col=\"tip_amount\",\n",
    "   prediction_col = \"prediction\",\n",
    "  metric_name = c(\"rmse\"),\n",
    "  uid = random_string(\"regression_evaluator_\"))\n",
    "r2_train_rf<-ml_regression_evaluator( training_rf,\n",
    "   label_col=\"tip_amount\",\n",
    "   prediction_col = \"prediction\",\n",
    "  metric_name = c(\"r2\"),\n",
    "  uid = random_string(\"regression_evaluator_\"))\n",
    "mae_train_rf<-ml_regression_evaluator( training_rf,\n",
    "   label_col=\"tip_amount\",\n",
    "   prediction_col = \"prediction\",\n",
    "  metric_name = c(\"mae\"),\n",
    "  uid = random_string(\"regression_evaluator_\"))\n",
    "train_rf<-c(mse_train_rf,rmse_train_rf,r2_train_rf,mae_train_rf)\n",
    "\n"
   ]
  },
  {
   "cell_type": "code",
   "execution_count": 47,
   "id": "0ed3f35d",
   "metadata": {},
   "outputs": [],
   "source": [
    "test_rf<-ml_predict(modelo_rf, particion_datos$test) \n",
    "\n",
    "mse_test_rf<-ml_regression_evaluator( test_rf,\n",
    "   label_col=\"tip_amount\",\n",
    "   prediction_col = \"prediction\",\n",
    "  metric_name = c(\"mse\"),\n",
    "  uid = random_string(\"regression_evaluator_\"))\n",
    "rmse_test_rf<-ml_regression_evaluator( test_rf,\n",
    "   label_col=\"tip_amount\",\n",
    "   prediction_col = \"prediction\",\n",
    "  metric_name = c(\"rmse\"),\n",
    "  uid = random_string(\"regression_evaluator_\"))\n",
    "r2_test_rf<-ml_regression_evaluator( test_rf,\n",
    "   label_col=\"tip_amount\",\n",
    "   prediction_col = \"prediction\",\n",
    "  metric_name = c(\"r2\"),\n",
    "  uid = random_string(\"regression_evaluator_\"))\n",
    "mae_test_rf<-ml_regression_evaluator( test_rf,\n",
    "   label_col=\"tip_amount\",\n",
    "   prediction_col = \"prediction\",\n",
    "  metric_name = c(\"mae\"),\n",
    "  uid = random_string(\"regression_evaluator_\"))\n",
    "test_rf<-c(mse_test_rf,rmse_test_rf,r2_test_rf,mae_test_rf)"
   ]
  },
  {
   "cell_type": "markdown",
   "id": "ae8b5568",
   "metadata": {},
   "source": [
    "# Gboost\n"
   ]
  },
  {
   "cell_type": "code",
   "execution_count": 12,
   "id": "0f1393c5",
   "metadata": {},
   "outputs": [
    {
     "name": "stderr",
     "output_type": "stream",
     "text": [
      "Warning message:\n",
      "\"Some components of ... were not used: max.depth\""
     ]
    }
   ],
   "source": [
    "modelo_gb <- particion_datos$training %>%\n",
    "              ml_gradient_boosted_trees(formula,\n",
    "              type =\"regression\",max.depth=10)\n"
   ]
  },
  {
   "cell_type": "code",
   "execution_count": 13,
   "id": "1875dab7",
   "metadata": {},
   "outputs": [
    {
     "name": "stderr",
     "output_type": "stream",
     "text": [
      "Model successfully saved.\n"
     ]
    }
   ],
   "source": [
    "ml_save(modelo_gb, \"ModeloGB\")"
   ]
  },
  {
   "cell_type": "code",
   "execution_count": 15,
   "id": "3b86e5d2",
   "metadata": {},
   "outputs": [
    {
     "data": {
      "text/plain": [
       "               Length Class                   Mode     \n",
       "pipeline_model  5     ml_pipeline_model       list     \n",
       "formula         1     -none-                  character\n",
       "dataset         2     tbl_spark               list     \n",
       "pipeline        5     ml_pipeline             list     \n",
       "model          11     ml_gbt_regression_model list     \n",
       "label_col       1     -none-                  character\n",
       "features_col    1     -none-                  character\n",
       "feature_names   8     -none-                  character\n",
       "response        1     -none-                  character"
      ]
     },
     "metadata": {},
     "output_type": "display_data"
    }
   ],
   "source": [
    "summary(modelo_gb)"
   ]
  },
  {
   "cell_type": "code",
   "execution_count": 48,
   "id": "90cda329",
   "metadata": {},
   "outputs": [],
   "source": [
    "training_gb<-ml_predict(modelo_gb, particion_datos$training)\n",
    "\n",
    "mse_train_gb<-ml_regression_evaluator( training_gb,\n",
    "   label_col=\"tip_amount\",\n",
    "   prediction_col = \"prediction\",\n",
    "  metric_name = c(\"mse\"),\n",
    "  uid = random_string(\"regression_evaluator_\"))\n",
    "rmse_train_gb<-ml_regression_evaluator( training_gb,\n",
    "   label_col=\"tip_amount\",\n",
    "   prediction_col = \"prediction\",\n",
    "  metric_name = c(\"rmse\"),\n",
    "  uid = random_string(\"regression_evaluator_\"))\n",
    "r2_train_gb<-ml_regression_evaluator( training_gb,\n",
    "   label_col=\"tip_amount\",\n",
    "   prediction_col = \"prediction\",\n",
    "  metric_name = c(\"r2\"),\n",
    "  uid = random_string(\"regression_evaluator_\"))\n",
    "mae_train_gb<-ml_regression_evaluator( training_gb,\n",
    "   label_col=\"tip_amount\",\n",
    "   prediction_col = \"prediction\",\n",
    "  metric_name = c(\"mae\"),\n",
    "  uid = random_string(\"regression_evaluator_\"))\n",
    "train_gb<-c(mse_train_gb,rmse_train_gb,r2_train_gb,mae_train_gb)"
   ]
  },
  {
   "cell_type": "code",
   "execution_count": 49,
   "id": "5a36a700",
   "metadata": {},
   "outputs": [],
   "source": [
    "test_gb<-ml_predict(modelo_gb, particion_datos$test) \n",
    "\n",
    "mse_test_gb<-ml_regression_evaluator( test_gb,\n",
    "   label_col=\"tip_amount\",\n",
    "   prediction_col = \"prediction\",\n",
    "  metric_name = c(\"mse\"),\n",
    "  uid = random_string(\"regression_evaluator_\"))\n",
    "rmse_test_gb<-ml_regression_evaluator( test_gb,\n",
    "   label_col=\"tip_amount\",\n",
    "   prediction_col = \"prediction\",\n",
    "  metric_name = c(\"rmse\"),\n",
    "  uid = random_string(\"regression_evaluator_\"))\n",
    "r2_test_gb<-ml_regression_evaluator( test_gb,\n",
    "   label_col=\"tip_amount\",\n",
    "   prediction_col = \"prediction\",\n",
    "  metric_name = c(\"r2\"),\n",
    "  uid = random_string(\"regression_evaluator_\"))\n",
    "mae_test_gb<-ml_regression_evaluator( test_gb,\n",
    "   label_col=\"tip_amount\",\n",
    "   prediction_col = \"prediction\",\n",
    "  metric_name = c(\"mae\"),\n",
    "  uid = random_string(\"regression_evaluator_\"))\n",
    "test_gb<-c(mse_test_gb,rmse_test_gb,r2_test_gb,mae_test_gb)\n"
   ]
  },
  {
   "cell_type": "markdown",
   "id": "8f94be61",
   "metadata": {},
   "source": [
    "# Comparativa de modelos"
   ]
  },
  {
   "cell_type": "markdown",
   "id": "122cde39",
   "metadata": {},
   "source": [
    "Una vez hemos calculado todos los modelos vamos a compararlos entre sí. "
   ]
  },
  {
   "cell_type": "code",
   "execution_count": 67,
   "id": "eb6cff99",
   "metadata": {},
   "outputs": [],
   "source": [
    "comparativa_modelos<-as.data.frame(rbind(train_lm,test_lm,train_rf,test_rf,train_gb,test_gb))"
   ]
  },
  {
   "cell_type": "code",
   "execution_count": 68,
   "id": "6778fe7d",
   "metadata": {},
   "outputs": [],
   "source": [
    "names(comparativa_modelos)<-c(\"mse\",\"rmse\",\"r2\",\"mae\")"
   ]
  },
  {
   "cell_type": "code",
   "execution_count": 69,
   "id": "36e29e86",
   "metadata": {
    "scrolled": false
   },
   "outputs": [
    {
     "data": {
      "text/html": [
       "<table>\n",
       "<thead><tr><th></th><th scope=col>mse</th><th scope=col>rmse</th><th scope=col>r2</th><th scope=col>mae</th></tr></thead>\n",
       "<tbody>\n",
       "\t<tr><th scope=row>train_lm</th><td>0.9327011</td><td>0.9657645</td><td>0.5526715</td><td>0.5979458</td></tr>\n",
       "\t<tr><th scope=row>test_lm</th><td>0.9305075</td><td>0.9646282</td><td>0.5545960</td><td>0.5977304</td></tr>\n",
       "\t<tr><th scope=row>train_rf</th><td>1.0714756</td><td>1.0351211</td><td>0.4861144</td><td>0.6366345</td></tr>\n",
       "\t<tr><th scope=row>test_rf</th><td>1.0716768</td><td>1.0352182</td><td>0.4870228</td><td>0.6368386</td></tr>\n",
       "\t<tr><th scope=row>train_gb</th><td>0.9290692</td><td>0.9638824</td><td>0.5544133</td><td>0.5964876</td></tr>\n",
       "\t<tr><th scope=row>test_gb</th><td>0.9275232</td><td>0.9630801</td><td>0.5560244</td><td>0.5963103</td></tr>\n",
       "</tbody>\n",
       "</table>\n"
      ],
      "text/latex": [
       "\\begin{tabular}{r|llll}\n",
       "  & mse & rmse & r2 & mae\\\\\n",
       "\\hline\n",
       "\ttrain\\_lm & 0.9327011 & 0.9657645 & 0.5526715 & 0.5979458\\\\\n",
       "\ttest\\_lm & 0.9305075 & 0.9646282 & 0.5545960 & 0.5977304\\\\\n",
       "\ttrain\\_rf & 1.0714756 & 1.0351211 & 0.4861144 & 0.6366345\\\\\n",
       "\ttest\\_rf & 1.0716768 & 1.0352182 & 0.4870228 & 0.6368386\\\\\n",
       "\ttrain\\_gb & 0.9290692 & 0.9638824 & 0.5544133 & 0.5964876\\\\\n",
       "\ttest\\_gb & 0.9275232 & 0.9630801 & 0.5560244 & 0.5963103\\\\\n",
       "\\end{tabular}\n"
      ],
      "text/markdown": [
       "\n",
       "| <!--/--> | mse | rmse | r2 | mae |\n",
       "|---|---|---|---|---|\n",
       "| train_lm | 0.9327011 | 0.9657645 | 0.5526715 | 0.5979458 |\n",
       "| test_lm | 0.9305075 | 0.9646282 | 0.5545960 | 0.5977304 |\n",
       "| train_rf | 1.0714756 | 1.0351211 | 0.4861144 | 0.6366345 |\n",
       "| test_rf | 1.0716768 | 1.0352182 | 0.4870228 | 0.6368386 |\n",
       "| train_gb | 0.9290692 | 0.9638824 | 0.5544133 | 0.5964876 |\n",
       "| test_gb | 0.9275232 | 0.9630801 | 0.5560244 | 0.5963103 |\n",
       "\n"
      ],
      "text/plain": [
       "         mse       rmse      r2        mae      \n",
       "train_lm 0.9327011 0.9657645 0.5526715 0.5979458\n",
       "test_lm  0.9305075 0.9646282 0.5545960 0.5977304\n",
       "train_rf 1.0714756 1.0351211 0.4861144 0.6366345\n",
       "test_rf  1.0716768 1.0352182 0.4870228 0.6368386\n",
       "train_gb 0.9290692 0.9638824 0.5544133 0.5964876\n",
       "test_gb  0.9275232 0.9630801 0.5560244 0.5963103"
      ]
     },
     "metadata": {},
     "output_type": "display_data"
    }
   ],
   "source": [
    "comparativa_modelos"
   ]
  },
  {
   "cell_type": "markdown",
   "id": "40ab0365",
   "metadata": {},
   "source": [
    "Los modelos de regresión lineal y gradient boosting machine son muy similares en cuanto a poder predictivo. \n",
    "Como se comentaba anteriormente lo habitual sería lanzar los modelos cambiando las parametrizaciones e intentar ajustar mejor los modelos. \n",
    "Con esta configuración el modelo de gradient boosting machine es ligeramente mejor que el de regresión lineal."
   ]
  }
 ],
 "metadata": {
  "kernelspec": {
   "display_name": "R",
   "language": "R",
   "name": "ir"
  },
  "language_info": {
   "codemirror_mode": "r",
   "file_extension": ".r",
   "mimetype": "text/x-r-source",
   "name": "R",
   "pygments_lexer": "r",
   "version": "3.6.1"
  }
 },
 "nbformat": 4,
 "nbformat_minor": 5
}
