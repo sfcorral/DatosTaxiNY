{
 "cells": [
  {
   "cell_type": "markdown",
   "id": "18f82980",
   "metadata": {},
   "source": [
    "\n",
    "<h1><center>Análisis de propinas en los taxi de NY</center></h1>\n"
   ]
  },
  {
   "cell_type": "markdown",
   "id": "5e3f313a",
   "metadata": {},
   "source": [
    "Tenemos un cliente que se quiere expandir en NY y necesita diseñar un modelo predictivo para incluir en la app para sugerir la propina a dar al finalizar el trayecto. \n",
    "Dado que no tiene datos propios recogidos por el momento se realizará un análisis y modelo con los datos de los taxis de amarillos de NY. \n",
    "Primeramente bajamos los datos de la web. "
   ]
  },
  {
   "cell_type": "markdown",
   "id": "df4e1395",
   "metadata": {},
   "source": [
    "## Preparación del entorno"
   ]
  },
  {
   "cell_type": "markdown",
   "id": "f11bc44a",
   "metadata": {},
   "source": [
    "Carga de librerías necesarias."
   ]
  },
  {
   "cell_type": "code",
   "execution_count": 1,
   "id": "2857f70e",
   "metadata": {
    "scrolled": true
   },
   "outputs": [
    {
     "name": "stderr",
     "output_type": "stream",
     "text": [
      "\n",
      "Attaching package: 'dplyr'\n",
      "\n",
      "The following objects are masked from 'package:stats':\n",
      "\n",
      "    filter, lag\n",
      "\n",
      "The following objects are masked from 'package:base':\n",
      "\n",
      "    intersect, setdiff, setequal, union\n",
      "\n",
      "Registered S3 methods overwritten by 'ggplot2':\n",
      "  method         from \n",
      "  [.quosures     rlang\n",
      "  c.quosures     rlang\n",
      "  print.quosures rlang\n",
      "\n",
      "Attaching package: 'lubridate'\n",
      "\n",
      "The following object is masked from 'package:base':\n",
      "\n",
      "    date\n",
      "\n"
     ]
    },
    {
     "ename": "ERROR",
     "evalue": "Error in library(dbplot): there is no package called 'dbplot'\n",
     "output_type": "error",
     "traceback": [
      "Error in library(dbplot): there is no package called 'dbplot'\nTraceback:\n",
      "1. library(dbplot)"
     ]
    }
   ],
   "source": [
    "#Carga de libreria necesarias para el ejercicio\n",
    "library(sparklyr)\n",
    "library(dplyr)\n",
    "library(ggplot2)\n",
    "library(lubridate)\n",
    "library(dbplot)"
   ]
  },
  {
   "cell_type": "markdown",
   "id": "1c5904f1",
   "metadata": {},
   "source": [
    "Configuración entorno Spark"
   ]
  },
  {
   "cell_type": "code",
   "execution_count": 2,
   "id": "a8073878",
   "metadata": {
    "scrolled": false
   },
   "outputs": [
    {
     "name": "stderr",
     "output_type": "stream",
     "text": [
      "Registered S3 method overwritten by 'openssl':\n",
      "  method      from\n",
      "  print.bytes Rcpp\n"
     ]
    }
   ],
   "source": [
    "#conexión a spark\n",
    "sc <- spark_connect(master = \"local\")\n",
    "spark_web(sc)\n",
    "#spark_disconnect(sc)"
   ]
  },
  {
   "cell_type": "code",
   "execution_count": null,
   "id": "6159901e",
   "metadata": {},
   "outputs": [],
   "source": [
    "#spark_disconnect(sc)"
   ]
  },
  {
   "cell_type": "markdown",
   "id": "af734c30",
   "metadata": {},
   "source": [
    "## Carga de datos"
   ]
  },
  {
   "cell_type": "markdown",
   "id": "9697e98a",
   "metadata": {},
   "source": [
    "Hacemos una primera revisión rápida de los datos y verificar los tipos de datos para su posterior utilización. \n"
   ]
  },
  {
   "cell_type": "code",
   "execution_count": 3,
   "id": "9011b970",
   "metadata": {},
   "outputs": [
    {
     "name": "stdout",
     "output_type": "stream",
     "text": [
      "Observations: 100\n",
      "Variables: 17\n",
      "$ VendorID              <int> 2, 2, 2, 2, 2, 1, 1, 1, 1, 2, 2, 2, 2, 2, 2, ...\n",
      "$ tpep_pickup_datetime  <fct> 2017-03-09 21:30:11, 2017-03-09 21:47:00, 201...\n",
      "$ tpep_dropoff_datetime <fct> 2017-03-09 21:44:20, 2017-03-09 21:58:01, 201...\n",
      "$ passenger_count       <int> 1, 1, 1, 1, 1, 1, 1, 1, 1, 1, 1, 2, 1, 1, 5, ...\n",
      "$ trip_distance         <dbl> 4.06, 2.73, 2.27, 3.86, 3.45, 2.80, 6.00, 8.7...\n",
      "$ RatecodeID            <int> 1, 1, 1, 1, 1, 1, 1, 1, 1, 1, 1, 1, 1, 1, 1, ...\n",
      "$ store_and_fwd_flag    <fct> N, N, N, N, N, N, N, N, N, N, N, N, N, N, N, ...\n",
      "$ PULocationID          <int> 148, 48, 79, 237, 41, 261, 87, 142, 68, 261, ...\n",
      "$ DOLocationID          <int> 48, 107, 162, 41, 162, 79, 142, 181, 141, 163...\n",
      "$ payment_type          <int> 1, 2, 1, 1, 2, 1, 1, 1, 1, 1, 1, 1, 1, 1, 1, ...\n",
      "$ fare_amount           <dbl> 14.0, 11.5, 10.0, 12.0, 12.0, 12.5, 19.5, 30....\n",
      "$ extra                 <dbl> 0.5, 0.5, 0.5, 0.5, 0.5, 0.5, 0.5, 0.5, 0.5, ...\n",
      "$ mta_tax               <dbl> 0.5, 0.5, 0.5, 0.5, 0.5, 0.5, 0.5, 0.5, 0.5, ...\n",
      "$ tip_amount            <dbl> 3.06, 0.00, 2.82, 3.99, 0.00, 1.00, 3.50, 7.8...\n",
      "$ tolls_amount          <dbl> 0, 0, 0, 0, 0, 0, 0, 0, 0, 0, 0, 0, 0, 0, 0, ...\n",
      "$ improvement_surcharge <dbl> 0.3, 0.3, 0.3, 0.3, 0.3, 0.3, 0.3, 0.3, 0.3, ...\n",
      "$ total_amount          <dbl> 18.36, 12.80, 14.12, 17.29, 13.30, 14.80, 24....\n"
     ]
    }
   ],
   "source": [
    "Top100Datos<-read.csv(\"C:/Users/Sara/Desktop/DatosTaxi/yellow_tripdata_2017-03.csv\", nrows = 100)\n",
    "glimpse(Top100Datos)"
   ]
  },
  {
   "cell_type": "markdown",
   "id": "a13afebb",
   "metadata": {},
   "source": [
    "Cambio algunos de los tipos de datos que aparecen por defecto para poder operar con esas variables después."
   ]
  },
  {
   "cell_type": "code",
   "execution_count": 4,
   "id": "973148cd",
   "metadata": {},
   "outputs": [],
   "source": [
    "#Defino el schema de los datos \n",
    "schema_final <- c( VendorID   = \"integer\", tpep_pickup_datetime  = \"timestamp\", tpep_dropoff_datetime=\"timestamp\", passenger_count=\"integer\",\n",
    "                     trip_distance=\"numeric\", RatecodeID=\"factor\",store_and_fwd_flag=\"character\",PULocationID=\"character\",DOLocationID=\"character\",\n",
    "                     payment_type=\"factor\",fare_amount=\"numeric\",extra=\"numeric\", mta_tax=\"numeric\", tip_amount=\"numeric\",tolls_amount=\"integer\",\n",
    "                     improvement_surcharge=\"numeric\",total_amount=\"numeric\") \n",
    "#Cargo los datos\n",
    "DataTaxi<-spark_read_csv(sc, \"C:/Users/Sara/Desktop/DatosTaxi/\", columns = schema_final, infer_schema=FALSE)"
   ]
  },
  {
   "cell_type": "markdown",
   "id": "34180638",
   "metadata": {},
   "source": [
    "Realizo el conteo de los datos y reviso que se han modificado los tipos de datos como se requería. "
   ]
  },
  {
   "cell_type": "code",
   "execution_count": 5,
   "id": "e94b0bd2",
   "metadata": {},
   "outputs": [
    {
     "data": {
      "text/plain": [
       "# Source: spark<?> [?? x 1]\n",
       "         n\n",
       "     <dbl>\n",
       "1 29720436"
      ]
     },
     "metadata": {},
     "output_type": "display_data"
    },
    {
     "name": "stdout",
     "output_type": "stream",
     "text": [
      "Observations: ??\n",
      "Variables: 17\n",
      "Database: spark_connection\n",
      "$ VendorID              <int> 2, 2, 2, 2, 2, 1, 1, 1, 1, 2, 2, 2, 2, 2, 2, ...\n",
      "$ tpep_pickup_datetime  <dttm> 2017-03-09 20:30:11, 2017-03-09 20:47:00, 20...\n",
      "$ tpep_dropoff_datetime <dttm> 2017-03-09 20:44:20, 2017-03-09 20:58:01, 20...\n",
      "$ passenger_count       <int> 1, 1, 1, 1, 1, 1, 1, 1, 1, 1, 1, 2, 1, 1, 5, ...\n",
      "$ trip_distance         <dbl> 4.06, 2.73, 2.27, 3.86, 3.45, 2.80, 6.00, 8.7...\n",
      "$ RatecodeID            <chr> \"1\", \"1\", \"1\", \"1\", \"1\", \"1\", \"1\", \"1\", \"1\", ...\n",
      "$ store_and_fwd_flag    <chr> \"N\", \"N\", \"N\", \"N\", \"N\", \"N\", \"N\", \"N\", \"N\", ...\n",
      "$ PULocationID          <chr> \"148\", \"48\", \"79\", \"237\", \"41\", \"261\", \"87\", ...\n",
      "$ DOLocationID          <chr> \"48\", \"107\", \"162\", \"41\", \"162\", \"79\", \"142\",...\n",
      "$ payment_type          <chr> \"1\", \"2\", \"1\", \"1\", \"2\", \"1\", \"1\", \"1\", \"1\", ...\n",
      "$ fare_amount           <dbl> 14.0, 11.5, 10.0, 12.0, 12.0, 12.5, 19.5, 30....\n",
      "$ extra                 <dbl> 0.5, 0.5, 0.5, 0.5, 0.5, 0.5, 0.5, 0.5, 0.5, ...\n",
      "$ mta_tax               <dbl> 0.5, 0.5, 0.5, 0.5, 0.5, 0.5, 0.5, 0.5, 0.5, ...\n",
      "$ tip_amount            <dbl> 3.06, 0.00, 2.82, 3.99, 0.00, 1.00, 3.50, 7.8...\n",
      "$ tolls_amount          <int> 0, 0, 0, 0, 0, 0, 0, 0, 0, 0, 0, 0, 0, 0, 0, ...\n",
      "$ improvement_surcharge <dbl> 0.3, 0.3, 0.3, 0.3, 0.3, 0.3, 0.3, 0.3, 0.3, ...\n",
      "$ total_amount          <dbl> 18.36, 12.80, 14.12, 17.29, 13.30, 14.80, 24....\n"
     ]
    }
   ],
   "source": [
    "#cuento los registros\n",
    "count(DataTaxi)\n",
    "#reviso los datos \n",
    "glimpse(DataTaxi)"
   ]
  },
  {
   "cell_type": "markdown",
   "id": "a341487e",
   "metadata": {},
   "source": [
    "Como se quiere calcular la propina a sugerir, se eliminarán aquellos registros que no la tengan registrada por el tipo de pago. No puedo eliminar todos los registros ya que habrá gente que haya decidido no dar propina. \n",
    "\n",
    "Analizamos la propina por tipo de pago, ya que en el diseño de registro se indica que no se registran propinas en metálico, también parece lógico eliminar aquellos viajes que sean del tipo \"No charge\", \"Dispute\", \"Unknown\" y \"Voided trip\". \n"
   ]
  },
  {
   "cell_type": "code",
   "execution_count": 6,
   "id": "e059c052",
   "metadata": {},
   "outputs": [
    {
     "data": {
      "text/plain": [
       "# Source: spark<?> [?? x 1]\n",
       "         n\n",
       "     <dbl>\n",
       "1 18937135"
      ]
     },
     "metadata": {},
     "output_type": "display_data"
    }
   ],
   "source": [
    "DataTaxiTarjeta<-DataTaxi %>%\n",
    "                    filter(payment_type==1)\n",
    "count(DataTaxiTarjeta)"
   ]
  },
  {
   "cell_type": "markdown",
   "id": "a452288a",
   "metadata": {},
   "source": [
    "## Análisis explotario de datos "
   ]
  },
  {
   "cell_type": "markdown",
   "id": "35f6f82d",
   "metadata": {},
   "source": [
    "Calculamos los estadísticos básicos de las variables continuas. "
   ]
  },
  {
   "cell_type": "code",
   "execution_count": 7,
   "id": "d74a6005",
   "metadata": {},
   "outputs": [
    {
     "data": {
      "text/html": [
       "<table>\n",
       "<thead><tr><th scope=col>summary</th><th scope=col>passenger_count</th><th scope=col>trip_distance</th><th scope=col>fare_amount</th><th scope=col>extra</th><th scope=col>mta_tax</th><th scope=col>tip_amount</th><th scope=col>tolls_amount</th><th scope=col>improvement_surcharge</th><th scope=col>total_amount</th></tr></thead>\n",
       "<tbody>\n",
       "\t<tr><td>count               </td><td>18937135            </td><td>18937135            </td><td>18937135            </td><td>18937135            </td><td>18937135            </td><td>18937135            </td><td>18937135            </td><td>18937135            </td><td>18937135            </td></tr>\n",
       "\t<tr><td>mean                </td><td>1.6038310441362962  </td><td>2.464552778971072   </td><td>11.814522147621616  </td><td>0.3368190489216029  </td><td>0.4987931363429576  </td><td>2.3701330882423917  </td><td>0.008807298464102411</td><td>0.2999180974259983  </td><td>15.334558944174981  </td></tr>\n",
       "\t<tr><td>stddev              </td><td>1.2558351805466668  </td><td>2.7144820158183993  </td><td>9.005785215001747   </td><td>0.3960646888497585  </td><td>0.09637288483712515 </td><td>2.115569998767731   </td><td>0.42893715689781786 </td><td>0.005125913384657877</td><td>10.605803184812585  </td></tr>\n",
       "\t<tr><td>min                 </td><td>0                   </td><td>0.0                 </td><td>-52.0               </td><td>-38.6               </td><td>-0.5                </td><td>-15.84              </td><td>0                   </td><td>-0.3                </td><td>-70.59              </td></tr>\n",
       "\t<tr><td>max                 </td><td>9                   </td><td>598.5               </td><td>852.5               </td><td>96.0                </td><td>250.0               </td><td>444.5               </td><td>288                 </td><td>1.0                 </td><td>852.5               </td></tr>\n",
       "</tbody>\n",
       "</table>\n"
      ],
      "text/latex": [
       "\\begin{tabular}{r|llllllllll}\n",
       " summary & passenger\\_count & trip\\_distance & fare\\_amount & extra & mta\\_tax & tip\\_amount & tolls\\_amount & improvement\\_surcharge & total\\_amount\\\\\n",
       "\\hline\n",
       "\t count                & 18937135             & 18937135             & 18937135             & 18937135             & 18937135             & 18937135             & 18937135             & 18937135             & 18937135            \\\\\n",
       "\t mean                 & 1.6038310441362962   & 2.464552778971072    & 11.814522147621616   & 0.3368190489216029   & 0.4987931363429576   & 2.3701330882423917   & 0.008807298464102411 & 0.2999180974259983   & 15.334558944174981  \\\\\n",
       "\t stddev               & 1.2558351805466668   & 2.7144820158183993   & 9.005785215001747    & 0.3960646888497585   & 0.09637288483712515  & 2.115569998767731    & 0.42893715689781786  & 0.005125913384657877 & 10.605803184812585  \\\\\n",
       "\t min                  & 0                    & 0.0                  & -52.0                & -38.6                & -0.5                 & -15.84               & 0                    & -0.3                 & -70.59              \\\\\n",
       "\t max                  & 9                    & 598.5                & 852.5                & 96.0                 & 250.0                & 444.5                & 288                  & 1.0                  & 852.5               \\\\\n",
       "\\end{tabular}\n"
      ],
      "text/markdown": [
       "\n",
       "| summary | passenger_count | trip_distance | fare_amount | extra | mta_tax | tip_amount | tolls_amount | improvement_surcharge | total_amount |\n",
       "|---|---|---|---|---|---|---|---|---|---|\n",
       "| count                | 18937135             | 18937135             | 18937135             | 18937135             | 18937135             | 18937135             | 18937135             | 18937135             | 18937135             |\n",
       "| mean                 | 1.6038310441362962   | 2.464552778971072    | 11.814522147621616   | 0.3368190489216029   | 0.4987931363429576   | 2.3701330882423917   | 0.008807298464102411 | 0.2999180974259983   | 15.334558944174981   |\n",
       "| stddev               | 1.2558351805466668   | 2.7144820158183993   | 9.005785215001747    | 0.3960646888497585   | 0.09637288483712515  | 2.115569998767731    | 0.42893715689781786  | 0.005125913384657877 | 10.605803184812585   |\n",
       "| min                  | 0                    | 0.0                  | -52.0                | -38.6                | -0.5                 | -15.84               | 0                    | -0.3                 | -70.59               |\n",
       "| max                  | 9                    | 598.5                | 852.5                | 96.0                 | 250.0                | 444.5                | 288                  | 1.0                  | 852.5                |\n",
       "\n"
      ],
      "text/plain": [
       "  summary passenger_count    trip_distance      fare_amount       \n",
       "1 count   18937135           18937135           18937135          \n",
       "2 mean    1.6038310441362962 2.464552778971072  11.814522147621616\n",
       "3 stddev  1.2558351805466668 2.7144820158183993 9.005785215001747 \n",
       "4 min     0                  0.0                -52.0             \n",
       "5 max     9                  598.5              852.5             \n",
       "  extra              mta_tax             tip_amount        \n",
       "1 18937135           18937135            18937135          \n",
       "2 0.3368190489216029 0.4987931363429576  2.3701330882423917\n",
       "3 0.3960646888497585 0.09637288483712515 2.115569998767731 \n",
       "4 -38.6              -0.5                -15.84            \n",
       "5 96.0               250.0               444.5             \n",
       "  tolls_amount         improvement_surcharge total_amount      \n",
       "1 18937135             18937135              18937135          \n",
       "2 0.008807298464102411 0.2999180974259983    15.334558944174981\n",
       "3 0.42893715689781786  0.005125913384657877  10.605803184812585\n",
       "4 0                    -0.3                  -70.59            \n",
       "5 288                  1.0                   852.5             "
      ]
     },
     "metadata": {},
     "output_type": "display_data"
    }
   ],
   "source": [
    "Summary1<-sdf_describe(DataTaxiTarjeta,c(\"passenger_count\",\"trip_distance\",\"fare_amount\",\"extra\",\"mta_tax\",\"tip_amount\",\"tolls_amount\",\"improvement_surcharge\",\"total_amount\"))\n",
    "as.data.frame(Summary1)\n"
   ]
  },
  {
   "cell_type": "code",
   "execution_count": 8,
   "id": "2f118303",
   "metadata": {
    "scrolled": false
   },
   "outputs": [
    {
     "data": {
      "text/html": [
       "<table>\n",
       "<thead><tr><th></th><th scope=col>passenger_count</th><th scope=col>trip_distance</th><th scope=col>fare_amount</th><th scope=col>extra</th><th scope=col>mta_tax</th><th scope=col>tip_amount</th><th scope=col>tolls_amount</th><th scope=col>improvement_surcharge</th><th scope=col>total_amount</th></tr></thead>\n",
       "<tbody>\n",
       "\t<tr><th scope=row>25%</th><td>1    </td><td> 1.00</td><td> 6.5 </td><td>0.0  </td><td>0.5  </td><td> 1.26</td><td>0    </td><td>0.3  </td><td> 9.35</td></tr>\n",
       "\t<tr><th scope=row>50%</th><td>1    </td><td> 1.62</td><td> 9.5 </td><td>0.0  </td><td>0.5  </td><td> 2.00</td><td>0    </td><td>0.3  </td><td>12.36</td></tr>\n",
       "\t<tr><th scope=row>75%</th><td>2    </td><td> 2.80</td><td>14.0 </td><td>0.5  </td><td>0.5  </td><td> 2.86</td><td>0    </td><td>0.3  </td><td>17.76</td></tr>\n",
       "\t<tr><th scope=row>95%</th><td>5    </td><td> 7.20</td><td>27.0 </td><td>1.0  </td><td>0.5  </td><td> 5.45</td><td>0    </td><td>0.3  </td><td>32.85</td></tr>\n",
       "\t<tr><th scope=row>99%</th><td>6    </td><td>15.60</td><td>52.0 </td><td>1.0  </td><td>0.5  </td><td>10.15</td><td>0    </td><td>0.3  </td><td>60.80</td></tr>\n",
       "</tbody>\n",
       "</table>\n"
      ],
      "text/latex": [
       "\\begin{tabular}{r|lllllllll}\n",
       "  & passenger\\_count & trip\\_distance & fare\\_amount & extra & mta\\_tax & tip\\_amount & tolls\\_amount & improvement\\_surcharge & total\\_amount\\\\\n",
       "\\hline\n",
       "\t25\\% & 1     &  1.00 &  6.5  & 0.0   & 0.5   &  1.26 & 0     & 0.3   &  9.35\\\\\n",
       "\t50\\% & 1     &  1.62 &  9.5  & 0.0   & 0.5   &  2.00 & 0     & 0.3   & 12.36\\\\\n",
       "\t75\\% & 2     &  2.80 & 14.0  & 0.5   & 0.5   &  2.86 & 0     & 0.3   & 17.76\\\\\n",
       "\t95\\% & 5     &  7.20 & 27.0  & 1.0   & 0.5   &  5.45 & 0     & 0.3   & 32.85\\\\\n",
       "\t99\\% & 6     & 15.60 & 52.0  & 1.0   & 0.5   & 10.15 & 0     & 0.3   & 60.80\\\\\n",
       "\\end{tabular}\n"
      ],
      "text/markdown": [
       "\n",
       "| <!--/--> | passenger_count | trip_distance | fare_amount | extra | mta_tax | tip_amount | tolls_amount | improvement_surcharge | total_amount |\n",
       "|---|---|---|---|---|---|---|---|---|---|\n",
       "| 25% | 1     |  1.00 |  6.5  | 0.0   | 0.5   |  1.26 | 0     | 0.3   |  9.35 |\n",
       "| 50% | 1     |  1.62 |  9.5  | 0.0   | 0.5   |  2.00 | 0     | 0.3   | 12.36 |\n",
       "| 75% | 2     |  2.80 | 14.0  | 0.5   | 0.5   |  2.86 | 0     | 0.3   | 17.76 |\n",
       "| 95% | 5     |  7.20 | 27.0  | 1.0   | 0.5   |  5.45 | 0     | 0.3   | 32.85 |\n",
       "| 99% | 6     | 15.60 | 52.0  | 1.0   | 0.5   | 10.15 | 0     | 0.3   | 60.80 |\n",
       "\n"
      ],
      "text/plain": [
       "    passenger_count trip_distance fare_amount extra mta_tax tip_amount\n",
       "25% 1                1.00          6.5        0.0   0.5      1.26     \n",
       "50% 1                1.62          9.5        0.0   0.5      2.00     \n",
       "75% 2                2.80         14.0        0.5   0.5      2.86     \n",
       "95% 5                7.20         27.0        1.0   0.5      5.45     \n",
       "99% 6               15.60         52.0        1.0   0.5     10.15     \n",
       "    tolls_amount improvement_surcharge total_amount\n",
       "25% 0            0.3                    9.35       \n",
       "50% 0            0.3                   12.36       \n",
       "75% 0            0.3                   17.76       \n",
       "95% 0            0.3                   32.85       \n",
       "99% 0            0.3                   60.80       "
      ]
     },
     "metadata": {},
     "output_type": "display_data"
    }
   ],
   "source": [
    "vars<-c(\"passenger_count\",\"trip_distance\",\"fare_amount\",\"extra\",\"mta_tax\",\"tip_amount\",\"tolls_amount\",\"improvement_surcharge\",\"total_amount\")\n",
    "q<-data.frame(matrix(ncol = 0, nrow = 5))\n",
    "for(var in vars)\n",
    "    { \n",
    "        a<-as.data.frame(sdf_quantile(DataTaxiTarjeta,var,probabilities = c( 0.25, 0.5, 0.75,0.95,0.99)))\n",
    "        q<-cbind(q,a)\n",
    "}\n",
    "names(q)<-vars\n",
    "q\n"
   ]
  },
  {
   "cell_type": "markdown",
   "id": "99fba7ba",
   "metadata": {},
   "source": [
    "De los importes extra que se cobran verifico que están todos dentro de los rangos especificados para filtrarlos en otro caso, de no ser así filtraré aquellos registros. "
   ]
  },
  {
   "cell_type": "code",
   "execution_count": 9,
   "id": "e823bc55",
   "metadata": {
    "scrolled": true
   },
   "outputs": [
    {
     "data": {
      "text/plain": [
       "# Source:     spark<?> [?? x 2]\n",
       "# Ordered by: desc(count)\n",
       "   extra   count\n",
       "   <dbl>   <dbl>\n",
       " 1  0    9484443\n",
       " 2  0.5  6281603\n",
       " 3  1    3152014\n",
       " 4  4.5    18970\n",
       " 5  0.02      20\n",
       " 6  1.5       15\n",
       " 7  0.3       13\n",
       " 8  4.54       9\n",
       " 9  0.1        8\n",
       "10  0.2        6\n",
       "# ... with more rows"
      ]
     },
     "metadata": {},
     "output_type": "display_data"
    },
    {
     "data": {
      "text/plain": [
       "# Source:     spark<?> [?? x 2]\n",
       "# Ordered by: desc(count)\n",
       "   mta_tax    count\n",
       "     <dbl>    <dbl>\n",
       " 1    0.5  18887724\n",
       " 2    0       48672\n",
       " 3    0.85      652\n",
       " 4    3          45\n",
       " 5    0.25       10\n",
       " 6   -0.5         5\n",
       " 7    7.68        3\n",
       " 8    0.37        3\n",
       " 9    0.35        1\n",
       "10   10.3         1\n",
       "# ... with more rows"
      ]
     },
     "metadata": {},
     "output_type": "display_data"
    },
    {
     "data": {
      "text/plain": [
       "# Source:     spark<?> [?? x 2]\n",
       "# Ordered by: desc(count)\n",
       "  Improvement_surcharge    count\n",
       "                  <dbl>    <dbl>\n",
       "1                   0.3 18931820\n",
       "2                   0       5265\n",
       "3                   1         45\n",
       "4                  -0.3        5"
      ]
     },
     "metadata": {},
     "output_type": "display_data"
    },
    {
     "data": {
      "text/plain": [
       "# Source:     spark<?> [?? x 2]\n",
       "# Ordered by: desc(count)\n",
       "   tolls_amount    count\n",
       "          <int>    <dbl>\n",
       " 1            0 18926438\n",
       " 2           15     1285\n",
       " 3           18     1118\n",
       " 4            8      949\n",
       " 5           17      927\n",
       " 6           21      849\n",
       " 7            6      831\n",
       " 8           16      830\n",
       " 9           20      623\n",
       "10           25      588\n",
       "# ... with more rows"
      ]
     },
     "metadata": {},
     "output_type": "display_data"
    }
   ],
   "source": [
    "DataTaxiTarjeta %>%\n",
    "         group_by(extra) %>%\n",
    "         summarize( count=n()) %>%\n",
    "        arrange(desc(count))\n",
    "\n",
    "\n",
    "DataTaxiTarjeta %>%\n",
    "         group_by(mta_tax) %>%\n",
    "         summarize( count=n()) %>%\n",
    "        arrange(desc(count))\n",
    "\n",
    "DataTaxiTarjeta %>%\n",
    "         group_by(Improvement_surcharge) %>%\n",
    "         summarize( count=n()) %>%\n",
    "        arrange(desc(count))\n",
    "DataTaxiTarjeta %>%\n",
    "         group_by(tolls_amount) %>%\n",
    "         summarize( count=n()) %>%\n",
    "        arrange(desc(count))\n"
   ]
  },
  {
   "cell_type": "markdown",
   "id": "527a30ef",
   "metadata": {},
   "source": [
    "Una vez realizado el primer análisis exploratorio de los datos, a continuación se filtran los datos para eliminar datos atípicos y erróneos y generar nuevas variables: \n",
    "\n",
    "1. Filtramos aquellos registros que contienen valores erróneos en las variables \"extra\", \"mta_tax\", \"improvement_surchage\"\n",
    "2. Filtramos aquellos registros con outlier en las variables continuas \n",
    "3. Cálculamos nuevas variables que pueden resultar de interés para la modelización: \n",
    "    - WeekDay: día de la semana en la que comienza el viaje\n",
    "    - TripDurationMin: duración del viaje en minutos \n",
    "    - Tipo de horario: esta variable se deriva de la variable \"extra\" \n",
    "    - ZoneChange: cambio de zona \n",
    "    - AvgSpeed: velocidad media del viaje millas/hora\n",
    "    \n"
   ]
  },
  {
   "cell_type": "code",
   "execution_count": 10,
   "id": "0f53976d",
   "metadata": {},
   "outputs": [],
   "source": [
    "#Defino el schema de los datos \n",
    "schema_final <- c( VendorID   = \"integer\", tpep_pickup_datetime  = \"timestamp\", tpep_dropoff_datetime=\"timestamp\", passenger_count=\"integer\",\n",
    "                     trip_distance=\"numeric\", RatecodeID=\"factor\",store_and_fwd_flag=\"character\",PULocationID=\"character\",DOLocationID=\"character\",\n",
    "                     payment_type=\"factor\",fare_amount=\"numeric\",extra=\"numeric\", mta_tax=\"numeric\", tip_amount=\"numeric\",tolls_amount=\"integer\",\n",
    "                     improvement_surcharge=\"numeric\",total_amount=\"numeric\") \n",
    "#Cargo los datos\n",
    "DataTaxiTarjetaFiltrado<-DataTaxiTarjeta %>%\n",
    "            filter(tip_amount>=0 && tip_amount<=50) %>%\n",
    "            filter(extra==0 || extra==0.5 || extra==1) %>%\n",
    "            filter(mta_tax==0.5) %>% \n",
    "            filter(Improvement_surcharge==0.3 ) %>% \n",
    "            mutate(WeekDay=dayofweek(tpep_dropoff_datetime)) %>%\n",
    "            mutate(TripDurationMin=(bigint(to_timestamp(tpep_dropoff_datetime)) - bigint(to_timestamp(tpep_pickup_datetime)))/60 ) %>%\n",
    "            filter(TripDurationMin>0 && trip_distance>0 ) %>% \n",
    "            filter(trip_distance<=15.60)%>%\n",
    "            filter(fare_amount<=52)%>%\n",
    "            filter(tip_amount<=10.15)%>%\n",
    "            mutate(TypeTripHour=ifelse(extra==0,'Normal', ifelse(extra==0.5,'Rush Hour', 'OverNight'))) %>%\n",
    "            mutate(ZoneChange=ifelse(PULocationID ==DOLocationID ,'N', 'Y')) %>%\n",
    "            mutate(AvgSpeed=trip_distance/(TripDurationMin/60)) %>%\n",
    "            select(passenger_count,trip_distance,RatecodeID,fare_amount, tip_amount,tolls_amount,WeekDay,AvgSpeed,TripDurationMin,TypeTripHour, ZoneChange)\n",
    "\n",
    "       "
   ]
  },
  {
   "cell_type": "markdown",
   "id": "fa8fc931",
   "metadata": {},
   "source": [
    "Conteo de datos. "
   ]
  },
  {
   "cell_type": "code",
   "execution_count": 11,
   "id": "31dca8c7",
   "metadata": {},
   "outputs": [
    {
     "data": {
      "text/plain": [
       "# Source: spark<?> [?? x 1]\n",
       "         n\n",
       "     <dbl>\n",
       "1 18606021"
      ]
     },
     "metadata": {},
     "output_type": "display_data"
    }
   ],
   "source": [
    "count(DataTaxiTarjetaFiltrado)"
   ]
  },
  {
   "cell_type": "code",
   "execution_count": 19,
   "id": "037b1809",
   "metadata": {},
   "outputs": [
    {
     "name": "stdout",
     "output_type": "stream",
     "text": [
      "Observations: ??\n",
      "Variables: 11\n",
      "Database: spark_connection\n",
      "$ passenger_count <int> 1, 1, 1, 1, 1, 1, 1, 1, 1, 2, 1, 3, 1, 1, 1, 2, 1, ...\n",
      "$ trip_distance   <dbl> 4.06, 2.27, 3.86, 2.80, 6.00, 8.70, 3.70, 4.21, 2.0...\n",
      "$ RatecodeID      <chr> \"1\", \"1\", \"1\", \"1\", \"1\", \"1\", \"1\", \"1\", \"1\", \"1\", \"...\n",
      "$ fare_amount     <dbl> 14.0, 10.0, 12.0, 12.5, 19.5, 30.0, 16.5, 20.5, 8.5...\n",
      "$ tip_amount      <dbl> 3.06, 2.82, 3.99, 1.00, 3.50, 7.80, 1.50, 4.26, 1.9...\n",
      "$ tolls_amount    <int> 0, 0, 0, 0, 0, 0, 0, 0, 0, 0, 0, 0, 0, 0, 0, 0, 0, ...\n",
      "$ WeekDay         <int> 5, 5, 6, 4, 4, 4, 4, 4, 4, 4, 4, 4, 4, 4, 4, 4, 4, ...\n",
      "$ AvgSpeed        <dbl> 17.2155477, 13.4407899, 0.4725566, 11.6937352, 18.4...\n",
      "$ TripDurationMin <dbl> 14.150000, 10.133333, 490.100000, 14.366667, 19.500...\n",
      "$ TypeTripHour    <chr> \"Rush Hour\", \"Rush Hour\", \"Rush Hour\", \"Rush Hour\",...\n",
      "$ ZoneChange      <chr> \"Y\", \"Y\", \"Y\", \"Y\", \"Y\", \"Y\", \"Y\", \"Y\", \"Y\", \"Y\", \"...\n"
     ]
    }
   ],
   "source": [
    "glimpse(DataTaxiTarjetaFiltrado)"
   ]
  },
  {
   "cell_type": "markdown",
   "id": "6a380719",
   "metadata": {},
   "source": [
    "## Análisis univariante"
   ]
  },
  {
   "cell_type": "markdown",
   "id": "85a4b2c6",
   "metadata": {},
   "source": [
    "### passenger_count "
   ]
  },
  {
   "cell_type": "code",
   "execution_count": 12,
   "id": "6d2cb5c5",
   "metadata": {},
   "outputs": [],
   "source": [
    "options(repr.plot.width=3, repr.plot.height=3)"
   ]
  },
  {
   "cell_type": "code",
   "execution_count": 20,
   "id": "6e7d58f4",
   "metadata": {},
   "outputs": [
    {
     "data": {
      "image/png": "[encoded data removed]",
      "text/plain": [
       "plot without title"
      ]
     },
     "metadata": {},
     "output_type": "display_data"
    }
   ],
   "source": [
    "DataTaxiTarjetaFiltrado %>% \n",
    "    group_by(passenger_count ) %>%\n",
    "    summarise(count=n()) %>%\n",
    "    collect()  %>%\n",
    "    ggplot() +\n",
    "    geom_col(aes(passenger_count , count))+\n",
    "  ggtitle(\"Pasajeros\") +\n",
    "  xlab(\"pasajeros\") + ylab(\"Total\")+\n",
    "  theme(plot.title = element_text(hjust = 0.5))"
   ]
  },
  {
   "cell_type": "markdown",
   "id": "fd484fa9",
   "metadata": {},
   "source": [
    "### RateCodeID"
   ]
  },
  {
   "cell_type": "code",
   "execution_count": 21,
   "id": "49c13ae2",
   "metadata": {},
   "outputs": [
    {
     "data": {
      "image/png": "[encoded data removed]",
      "text/plain": [
       "plot without title"
      ]
     },
     "metadata": {},
     "output_type": "display_data"
    }
   ],
   "source": [
    "DataTaxiTarjetaFiltrado %>% \n",
    "    group_by(RatecodeID       ) %>%\n",
    "    summarise(count=n()) %>%\n",
    "    collect()  %>%\n",
    "    ggplot() +\n",
    "    geom_col(aes(RatecodeID, count))+  \n",
    "    ggtitle(\"RateCodeID\") +\n",
    "  theme(plot.title = element_text(hjust = 0.5))+\n",
    "  xlab(\"RateCodeID\") + ylab(\"Total\")"
   ]
  },
  {
   "cell_type": "markdown",
   "id": "b550cc16",
   "metadata": {},
   "source": [
    "### Week day"
   ]
  },
  {
   "cell_type": "code",
   "execution_count": 22,
   "id": "f9028699",
   "metadata": {
    "scrolled": false
   },
   "outputs": [
    {
     "data": {
      "image/png": "[encoded data removed]",
      "text/plain": [
       "plot without title"
      ]
     },
     "metadata": {},
     "output_type": "display_data"
    }
   ],
   "source": [
    "DataTaxiTarjetaFiltrado %>% \n",
    "    group_by(WeekDay) %>%\n",
    "    summarise(count=n()) %>%\n",
    "    collect()  %>%\n",
    "    ggplot() +\n",
    "    geom_col(aes(WeekDay, count))+  \n",
    "    ggtitle(\"Week day\") +\n",
    "  theme(plot.title = element_text(hjust = 0.5))+\n",
    "  xlab(\"Week day\") + ylab(\"Total\")"
   ]
  },
  {
   "cell_type": "markdown",
   "id": "74ff4d86",
   "metadata": {},
   "source": [
    "### TypeTripHour "
   ]
  },
  {
   "cell_type": "code",
   "execution_count": 25,
   "id": "244a3d22",
   "metadata": {},
   "outputs": [
    {
     "data": {
      "image/png": "[encoded data removed]",
      "text/plain": [
       "plot without title"
      ]
     },
     "metadata": {},
     "output_type": "display_data"
    }
   ],
   "source": [
    "DataTaxiTarjetaFiltrado %>% \n",
    "    group_by(TypeTripHour) %>%\n",
    "    summarise(count=n()) %>%\n",
    "    collect()  %>%\n",
    "    ggplot() +\n",
    "    geom_col(aes(x=\"\", y=count, fill=TypeTripHour))+ coord_polar(theta = \"y\")+  \n",
    "    ggtitle(\"Type Trip Hour day\") +\n",
    "  theme(plot.title = element_text(hjust = 0.5))"
   ]
  },
  {
   "cell_type": "markdown",
   "id": "bca3b74e",
   "metadata": {},
   "source": [
    "### ZoneChange "
   ]
  },
  {
   "cell_type": "code",
   "execution_count": 28,
   "id": "05ad8b16",
   "metadata": {},
   "outputs": [
    {
     "data": {
      "image/png": "[encoded data removed]",
      "text/plain": [
       "plot without title"
      ]
     },
     "metadata": {},
     "output_type": "display_data"
    }
   ],
   "source": [
    "DataTaxiTarjetaFiltrado %>% \n",
    "    group_by(ZoneChange) %>%\n",
    "    summarise(count=n()) %>%\n",
    "    collect()  %>%\n",
    "    ggplot() +\n",
    "    geom_col(aes(x=\"\", y=count, fill=ZoneChange))+ coord_polar(theta = \"y\")+\n",
    "     ggtitle(\"Zone Change\") +\n",
    "  theme(plot.title = element_text(hjust = 0.5))\n"
   ]
  },
  {
   "cell_type": "markdown",
   "id": "ef86e723",
   "metadata": {},
   "source": [
    "### trip_distance "
   ]
  },
  {
   "cell_type": "code",
   "execution_count": 31,
   "id": "234cff09",
   "metadata": {
    "scrolled": false
   },
   "outputs": [
    {
     "data": {
      "image/png": "[encoded data removed]",
      "text/plain": [
       "plot without title"
      ]
     },
     "metadata": {},
     "output_type": "display_data"
    }
   ],
   "source": [
    "DataTaxiTarjetaFiltrado %>% \n",
    "dbplot_histogram(trip_distance, binwidth = 0.5) +\n",
    "labs(title = \"Trip Distance\")"
   ]
  },
  {
   "cell_type": "markdown",
   "id": "b3a88aac",
   "metadata": {},
   "source": [
    "### AvgSpeed"
   ]
  },
  {
   "cell_type": "code",
   "execution_count": 37,
   "id": "28754f4b",
   "metadata": {},
   "outputs": [
    {
     "data": {
      "image/png": "[encoded data removed]",
      "text/plain": [
       "plot without title"
      ]
     },
     "metadata": {},
     "output_type": "display_data"
    }
   ],
   "source": [
    "DataTaxiTarjetaFiltrado %>% \n",
    "    filter(AvgSpeed<=26.959538)%>%\n",
    "dbplot_histogram(AvgSpeed) +\n",
    "labs(title = \"Average Speed\")"
   ]
  },
  {
   "cell_type": "markdown",
   "id": "3495178b",
   "metadata": {},
   "source": [
    "## Correlaciones"
   ]
  },
  {
   "cell_type": "code",
   "execution_count": 38,
   "id": "f060f27d",
   "metadata": {},
   "outputs": [
    {
     "name": "stdout",
     "output_type": "stream",
     "text": [
      "\n",
      "  There is a binary version available but the source version is later:\n",
      "         binary source needs_compilation\n",
      "corrplot   0.88   0.92             FALSE\n",
      "\n"
     ]
    },
    {
     "name": "stderr",
     "output_type": "stream",
     "text": [
      "installing the source package 'corrplot'\n",
      "\n"
     ]
    }
   ],
   "source": [
    "install.packages(\"corrplot\")"
   ]
  },
  {
   "cell_type": "code",
   "execution_count": 39,
   "id": "71f6fea2",
   "metadata": {},
   "outputs": [
    {
     "name": "stderr",
     "output_type": "stream",
     "text": [
      "corrplot 0.92 loaded\n"
     ]
    }
   ],
   "source": [
    "library(corrplot)"
   ]
  },
  {
   "cell_type": "code",
   "execution_count": 40,
   "id": "045c2a08",
   "metadata": {},
   "outputs": [],
   "source": [
    "\n",
    "mat=ml_corr(DataTaxiTarjetaFiltrado, columns = c(\"trip_distance\",\"fare_amount\",\"TripDurationMin\",\"AvgSpeed\",\"tip_amount\"), method = \"pearson\")\n",
    "\n",
    "mat<-as.matrix(mat)"
   ]
  },
  {
   "cell_type": "code",
   "execution_count": 42,
   "id": "2dc98d3f",
   "metadata": {},
   "outputs": [
    {
     "data": {
      "image/png": "[encoded data removed]",
      "text/plain": [
       "Plot with title \"\""
      ]
     },
     "metadata": {},
     "output_type": "display_data"
    }
   ],
   "source": [
    "options(repr.plot.width=5, repr.plot.height=5)\n",
    "corrplot(mat)"
   ]
  },
  {
   "cell_type": "markdown",
   "id": "f51c31d3",
   "metadata": {},
   "source": [
    "# Conclusiones"
   ]
  },
  {
   "cell_type": "markdown",
   "id": "9d8fc036",
   "metadata": {},
   "source": [
    "Una vez realizado el análisis de los datos, se ha procedido a realizar los filtros correspondientes eliminando aquellos datos erróneos y con datos atípicos. Dado el elevado número de registros de los que disponemos no supone a priori ningún problema, si no podríamos haberlos corregido o imputado. \n",
    "Entre las variables disponibles, desechamos aquellas que no van a aportar en principio nada al modelo, por tener no tener variabilidad en los valores como por ejemplo RateCodeId o no tener sentido incluirla como VendorID. \n",
    "Además tampoco incluiremos en la fórmula de nuestros módelos la variable total_amount por se combinación lineal de las variables que incluyen todos los importes y tarifas y la variable trip_distance por la alta correlación que presenta con la variable fare_amount. "
   ]
  }
 ],
 "metadata": {
  "kernelspec": {
   "display_name": "R",
   "language": "R",
   "name": "ir"
  },
  "language_info": {
   "codemirror_mode": "r",
   "file_extension": ".r",
   "mimetype": "text/x-r-source",
   "name": "R",
   "pygments_lexer": "r",
   "version": "3.6.1"
  }
 },
 "nbformat": 4,
 "nbformat_minor": 5
}
